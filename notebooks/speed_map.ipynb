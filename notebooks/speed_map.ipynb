{
 "cells": [
  {
   "cell_type": "code",
   "execution_count": 13,
   "id": "d6918d5a",
   "metadata": {},
   "outputs": [],
   "source": [
    "from sqlalchemy import create_engine\n",
    "import psycopg2\n",
    "import pandas as pd\n",
    "import numpy as np\n",
    "\n",
    "# импортируем библиотеку для работы с картами\n",
    "from keplergl import KeplerGl"
   ]
  },
  {
   "cell_type": "code",
   "execution_count": 14,
   "id": "93dc56a2",
   "metadata": {},
   "outputs": [],
   "source": [
    "def authorization_pg():\n",
    "    login_name = ''\n",
    "    login_password = ''\n",
    "    IP = ''\n",
    "    engine_str = f'postgresql://{login_name}:{login_password}@{IP}:5432/postgres'\n",
    "    engine = create_engine(engine_str)\n",
    "    return engine\n",
    "\n",
    "# Fast to .csv\n",
    "def csv(df, name):\n",
    "    df.to_csv(f'{name}.csv',index=False)"
   ]
  },
  {
   "cell_type": "code",
   "execution_count": 22,
   "id": "b728ecf1",
   "metadata": {},
   "outputs": [
    {
     "name": "stdout",
     "output_type": "stream",
     "text": [
      "CPU times: user 1.28 s, sys: 95.2 ms, total: 1.38 s\n",
      "Wall time: 1.63 s\n"
     ]
    },
    {
     "data": {
      "text/html": [
       "<div>\n",
       "<style scoped>\n",
       "    .dataframe tbody tr th:only-of-type {\n",
       "        vertical-align: middle;\n",
       "    }\n",
       "\n",
       "    .dataframe tbody tr th {\n",
       "        vertical-align: top;\n",
       "    }\n",
       "\n",
       "    .dataframe thead th {\n",
       "        text-align: right;\n",
       "    }\n",
       "</style>\n",
       "<table border=\"1\" class=\"dataframe\">\n",
       "  <thead>\n",
       "    <tr style=\"text-align: right;\">\n",
       "      <th></th>\n",
       "      <th>lat</th>\n",
       "      <th>lon</th>\n",
       "      <th>average_speed</th>\n",
       "    </tr>\n",
       "  </thead>\n",
       "  <tbody>\n",
       "    <tr>\n",
       "      <th>0</th>\n",
       "      <td>52.250294</td>\n",
       "      <td>104.31311</td>\n",
       "      <td>35.0</td>\n",
       "    </tr>\n",
       "  </tbody>\n",
       "</table>\n",
       "</div>"
      ],
      "text/plain": [
       "         lat        lon  average_speed\n",
       "0  52.250294  104.31311           35.0"
      ]
     },
     "execution_count": 22,
     "metadata": {},
     "output_type": "execute_result"
    }
   ],
   "source": [
    "%%time\n",
    "df_tram =  pd.read_sql_query('''select lat, lon, average_speed  from public.average_speed_tramway\n",
    "where year = 2022 and month = 1''', authorization_pg())\n",
    "df_tram.head(1)"
   ]
  },
  {
   "cell_type": "code",
   "execution_count": 24,
   "id": "c44e6393",
   "metadata": {},
   "outputs": [],
   "source": [
    "# df_tram['date'] = pd.to_datetime(df_tram.year.astype(str) + '/' + df_tram.month.astype(str) + '/01')\n",
    "# df_tram.head(1)"
   ]
  },
  {
   "cell_type": "code",
   "execution_count": 26,
   "id": "8c678ae5",
   "metadata": {},
   "outputs": [],
   "source": [
    "# df_tram.month.value_counts()"
   ]
  },
  {
   "cell_type": "code",
   "execution_count": 27,
   "id": "bf4e6fba",
   "metadata": {},
   "outputs": [],
   "source": [
    "# irk center\n",
    "lat, lon = 52.263408, 104.288213"
   ]
  },
  {
   "cell_type": "code",
   "execution_count": 28,
   "id": "32a888db",
   "metadata": {},
   "outputs": [],
   "source": [
    "config = {\n",
    "'version': 'v1',\n",
    "'config': {\n",
    "    'mapState': {\n",
    "        'latitude': lat,\n",
    "        'longitude': lon,\n",
    "        'zoom': 10\n",
    "        }\n",
    "    }\n",
    "}"
   ]
  },
  {
   "cell_type": "code",
   "execution_count": null,
   "id": "fd0dbf9a-4a80-4ec0-8441-60a6c73325c6",
   "metadata": {},
   "outputs": [],
   "source": []
  },
  {
   "cell_type": "code",
   "execution_count": 29,
   "id": "cd92a82b",
   "metadata": {},
   "outputs": [
    {
     "name": "stdout",
     "output_type": "stream",
     "text": [
      "User Guide: https://docs.kepler.gl/docs/keplergl-jupyter\n"
     ]
    }
   ],
   "source": [
    " # Создание карты\n",
    "map_1 = KeplerGl(config=config)"
   ]
  },
  {
   "cell_type": "code",
   "execution_count": 30,
   "id": "940c72f8",
   "metadata": {},
   "outputs": [
    {
     "name": "stderr",
     "output_type": "stream",
     "text": [
      "/opt/anaconda3/lib/python3.9/site-packages/jupyter_client/session.py:716: UserWarning: Message serialization failed with:\n",
      "Out of range float values are not JSON compliant\n",
      "Supporting this message is deprecated in jupyter-client 7, please make sure your message is JSON-compliant\n",
      "  content = self.pack(content)\n"
     ]
    }
   ],
   "source": [
    "map_1.add_data(data=df_tram, name='data_1')"
   ]
  },
  {
   "cell_type": "code",
   "execution_count": 31,
   "id": "decc454c",
   "metadata": {},
   "outputs": [
    {
     "name": "stdout",
     "output_type": "stream",
     "text": [
      "Map saved to tram_jan.html!\n"
     ]
    }
   ],
   "source": [
    "map_1.save_to_html(file_name='tram_jan.html')"
   ]
  },
  {
   "cell_type": "code",
   "execution_count": 68,
   "id": "16a9e4eb",
   "metadata": {},
   "outputs": [
    {
     "data": {
      "text/html": [
       "<div>\n",
       "<style scoped>\n",
       "    .dataframe tbody tr th:only-of-type {\n",
       "        vertical-align: middle;\n",
       "    }\n",
       "\n",
       "    .dataframe tbody tr th {\n",
       "        vertical-align: top;\n",
       "    }\n",
       "\n",
       "    .dataframe thead th {\n",
       "        text-align: right;\n",
       "    }\n",
       "</style>\n",
       "<table border=\"1\" class=\"dataframe\">\n",
       "  <thead>\n",
       "    <tr style=\"text-align: right;\">\n",
       "      <th></th>\n",
       "      <th>year</th>\n",
       "      <th>month</th>\n",
       "      <th>lat</th>\n",
       "      <th>lon</th>\n",
       "      <th>average_speed</th>\n",
       "      <th>date</th>\n",
       "    </tr>\n",
       "  </thead>\n",
       "  <tbody>\n",
       "    <tr>\n",
       "      <th>0</th>\n",
       "      <td>2021</td>\n",
       "      <td>9</td>\n",
       "      <td>52.265331</td>\n",
       "      <td>104.318604</td>\n",
       "      <td>0.0</td>\n",
       "      <td>2021-09-01</td>\n",
       "    </tr>\n",
       "    <tr>\n",
       "      <th>1</th>\n",
       "      <td>2021</td>\n",
       "      <td>9</td>\n",
       "      <td>52.256016</td>\n",
       "      <td>104.353271</td>\n",
       "      <td>15.0</td>\n",
       "      <td>2021-09-01</td>\n",
       "    </tr>\n",
       "    <tr>\n",
       "      <th>2</th>\n",
       "      <td>2021</td>\n",
       "      <td>9</td>\n",
       "      <td>52.256058</td>\n",
       "      <td>104.352234</td>\n",
       "      <td>9.0</td>\n",
       "      <td>2021-09-01</td>\n",
       "    </tr>\n",
       "    <tr>\n",
       "      <th>3</th>\n",
       "      <td>2021</td>\n",
       "      <td>9</td>\n",
       "      <td>52.256069</td>\n",
       "      <td>104.352531</td>\n",
       "      <td>7.0</td>\n",
       "      <td>2021-09-01</td>\n",
       "    </tr>\n",
       "    <tr>\n",
       "      <th>4</th>\n",
       "      <td>2021</td>\n",
       "      <td>9</td>\n",
       "      <td>52.256084</td>\n",
       "      <td>104.351250</td>\n",
       "      <td>17.0</td>\n",
       "      <td>2021-09-01</td>\n",
       "    </tr>\n",
       "    <tr>\n",
       "      <th>...</th>\n",
       "      <td>...</td>\n",
       "      <td>...</td>\n",
       "      <td>...</td>\n",
       "      <td>...</td>\n",
       "      <td>...</td>\n",
       "      <td>...</td>\n",
       "    </tr>\n",
       "    <tr>\n",
       "      <th>1549361</th>\n",
       "      <td>2022</td>\n",
       "      <td>1</td>\n",
       "      <td>52.295139</td>\n",
       "      <td>104.347038</td>\n",
       "      <td>23.0</td>\n",
       "      <td>2022-01-01</td>\n",
       "    </tr>\n",
       "    <tr>\n",
       "      <th>1549362</th>\n",
       "      <td>2022</td>\n",
       "      <td>1</td>\n",
       "      <td>52.295155</td>\n",
       "      <td>104.354118</td>\n",
       "      <td>14.0</td>\n",
       "      <td>2022-01-01</td>\n",
       "    </tr>\n",
       "    <tr>\n",
       "      <th>1549363</th>\n",
       "      <td>2022</td>\n",
       "      <td>1</td>\n",
       "      <td>52.295769</td>\n",
       "      <td>104.347153</td>\n",
       "      <td>14.0</td>\n",
       "      <td>2022-01-01</td>\n",
       "    </tr>\n",
       "    <tr>\n",
       "      <th>1549364</th>\n",
       "      <td>2022</td>\n",
       "      <td>1</td>\n",
       "      <td>52.296436</td>\n",
       "      <td>104.348244</td>\n",
       "      <td>23.0</td>\n",
       "      <td>2022-01-01</td>\n",
       "    </tr>\n",
       "    <tr>\n",
       "      <th>1549365</th>\n",
       "      <td>2021</td>\n",
       "      <td>9</td>\n",
       "      <td>52.263721</td>\n",
       "      <td>104.257812</td>\n",
       "      <td>20.0</td>\n",
       "      <td>2021-09-01</td>\n",
       "    </tr>\n",
       "  </tbody>\n",
       "</table>\n",
       "<p>1549366 rows × 6 columns</p>\n",
       "</div>"
      ],
      "text/plain": [
       "         year  month        lat         lon  average_speed       date\n",
       "0        2021      9  52.265331  104.318604            0.0 2021-09-01\n",
       "1        2021      9  52.256016  104.353271           15.0 2021-09-01\n",
       "2        2021      9  52.256058  104.352234            9.0 2021-09-01\n",
       "3        2021      9  52.256069  104.352531            7.0 2021-09-01\n",
       "4        2021      9  52.256084  104.351250           17.0 2021-09-01\n",
       "...       ...    ...        ...         ...            ...        ...\n",
       "1549361  2022      1  52.295139  104.347038           23.0 2022-01-01\n",
       "1549362  2022      1  52.295155  104.354118           14.0 2022-01-01\n",
       "1549363  2022      1  52.295769  104.347153           14.0 2022-01-01\n",
       "1549364  2022      1  52.296436  104.348244           23.0 2022-01-01\n",
       "1549365  2021      9  52.263721  104.257812           20.0 2021-09-01\n",
       "\n",
       "[1549366 rows x 6 columns]"
      ]
     },
     "execution_count": 68,
     "metadata": {},
     "output_type": "execute_result"
    }
   ],
   "source": [
    "df = df_tram.copy()\n",
    "df"
   ]
  },
  {
   "cell_type": "code",
   "execution_count": 70,
   "id": "4347527a",
   "metadata": {},
   "outputs": [],
   "source": [
    "csv(df,'df')"
   ]
  },
  {
   "cell_type": "code",
   "execution_count": 72,
   "id": "abd7ccb0",
   "metadata": {},
   "outputs": [
    {
     "data": {
      "text/plain": [
       "(1549366, 6)"
      ]
     },
     "execution_count": 72,
     "metadata": {},
     "output_type": "execute_result"
    }
   ],
   "source": [
    "df1 = pd.read_csv('df.csv')\n",
    "df1.shape"
   ]
  },
  {
   "cell_type": "code",
   "execution_count": 73,
   "id": "ca443410",
   "metadata": {},
   "outputs": [
    {
     "name": "stdout",
     "output_type": "stream",
     "text": [
      "Map saved to first_map.html!\n"
     ]
    }
   ],
   "source": [
    "map_1.save_to_html(data={'data_1': df1}, config=config, file_name='first_map.html')"
   ]
  },
  {
   "cell_type": "code",
   "execution_count": null,
   "id": "76ee6d38",
   "metadata": {},
   "outputs": [],
   "source": []
  }
 ],
 "metadata": {
  "kernelspec": {
   "display_name": "Python 3 (ipykernel)",
   "language": "python",
   "name": "python3"
  },
  "language_info": {
   "codemirror_mode": {
    "name": "ipython",
    "version": 3
   },
   "file_extension": ".py",
   "mimetype": "text/x-python",
   "name": "python",
   "nbconvert_exporter": "python",
   "pygments_lexer": "ipython3",
   "version": "3.9.7"
  }
 },
 "nbformat": 4,
 "nbformat_minor": 5
}
