{
 "cells": [
  {
   "cell_type": "code",
   "execution_count": 1,
   "id": "687f6b06",
   "metadata": {},
   "outputs": [],
   "source": [
    "import pandas as pd\n",
    "import numpy as np\n",
    "from datetime import datetime, timedelta\n",
    "from sqlalchemy import create_engine\n",
    "import psycopg2\n",
    "import plotly.express as px\n",
    "\n",
    "# Fast to .csv\n",
    "def csv(df, name):\n",
    "    df.to_csv(f'{name}.csv',index=False)\n",
    "\n",
    "# Fast to .xlsx\n",
    "def excel(df, name):\n",
    "    df.to_excel(f'{name}.xlsx',index=False)\n",
    "    \n",
    "def authorization():\n",
    "    login_name = ''\n",
    "    login_password = ''\n",
    "    IP = ''\n",
    "    engine_str = f'mssql+pymssql://{login_name}:{login_password}@{IP}:1433/monitoring'\n",
    "    engine = create_engine(engine_str)\n",
    "    return engine"
   ]
  },
  {
   "cell_type": "code",
   "execution_count": 2,
   "id": "23311434",
   "metadata": {},
   "outputs": [],
   "source": [
    "def execute_data_bd():\n",
    "    query =f'''SELECT\n",
    "\tYEAR(GMT) AS year,\n",
    "\tMONTH(GMT) AS month,\n",
    "\tDATEPART(HOUR, DATEADD(HOUR, 8, GMT)) AS hour,\n",
    "\tHEADING,\n",
    "\tlat,\n",
    "\tlon,\n",
    "\tAVG(SPEED) AS average_speed\n",
    "FROM\n",
    "\tmonitoring.dbo.transport\n",
    "WHERE\n",
    "\tGMT > '2022-01-01T00:00:00'\tAND GMT < '2022-02-01T00:00:00'\n",
    "\tAND DATEPART(HOUR, DATEADD(HOUR, 8, GMT)) >= 5\n",
    "\tAND SPEED >= 0\n",
    "\tAND SPEED <= 61\n",
    "GROUP BY\n",
    "\tYEAR(GMT),\n",
    "\tMONTH(GMT),\n",
    "\tDATEPART(HOUR, DATEADD(HOUR, 8, GMT)),\n",
    "\tHEADING,\n",
    "\tlat,\n",
    "\tlon\n",
    "ORDER BY \n",
    "\tYEAR(GMT),\n",
    "\tMONTH(gmt),\n",
    "\tDATEPART(HOUR, DATEADD(HOUR, 8, GMT))\n",
    "\n",
    "    '''\n",
    "    filtered_lat_lon = pd.read_sql_query(query,authorization())\n",
    "    return filtered_lat_lon"
   ]
  },
  {
   "cell_type": "code",
   "execution_count": 3,
   "id": "abfeb4f0",
   "metadata": {},
   "outputs": [
    {
     "name": "stdout",
     "output_type": "stream",
     "text": [
      "CPU times: user 36.5 s, sys: 3.81 s, total: 40.3 s\n",
      "Wall time: 8min 37s\n"
     ]
    }
   ],
   "source": [
    "%%time\n",
    "df = execute_data_bd()"
   ]
  },
  {
   "cell_type": "code",
   "execution_count": 5,
   "id": "812d3a8a",
   "metadata": {},
   "outputs": [
    {
     "data": {
      "text/plain": [
       "array([1])"
      ]
     },
     "execution_count": 5,
     "metadata": {},
     "output_type": "execute_result"
    }
   ],
   "source": [
    "df.month.unique()"
   ]
  },
  {
   "cell_type": "code",
   "execution_count": 9,
   "id": "d214ec5f",
   "metadata": {},
   "outputs": [
    {
     "data": {
      "text/html": [
       "<div>\n",
       "<style scoped>\n",
       "    .dataframe tbody tr th:only-of-type {\n",
       "        vertical-align: middle;\n",
       "    }\n",
       "\n",
       "    .dataframe tbody tr th {\n",
       "        vertical-align: top;\n",
       "    }\n",
       "\n",
       "    .dataframe thead th {\n",
       "        text-align: right;\n",
       "    }\n",
       "</style>\n",
       "<table border=\"1\" class=\"dataframe\">\n",
       "  <thead>\n",
       "    <tr style=\"text-align: right;\">\n",
       "      <th></th>\n",
       "      <th>year</th>\n",
       "      <th>month</th>\n",
       "      <th>hour</th>\n",
       "      <th>HEADING</th>\n",
       "      <th>lat</th>\n",
       "      <th>lon</th>\n",
       "      <th>average_speed</th>\n",
       "    </tr>\n",
       "  </thead>\n",
       "  <tbody>\n",
       "    <tr>\n",
       "      <th>0</th>\n",
       "      <td>2022</td>\n",
       "      <td>1</td>\n",
       "      <td>5</td>\n",
       "      <td>0.0</td>\n",
       "      <td>52.256699</td>\n",
       "      <td>104.364227</td>\n",
       "      <td>15.0</td>\n",
       "    </tr>\n",
       "    <tr>\n",
       "      <th>1</th>\n",
       "      <td>2022</td>\n",
       "      <td>1</td>\n",
       "      <td>5</td>\n",
       "      <td>0.0</td>\n",
       "      <td>52.270916</td>\n",
       "      <td>104.325447</td>\n",
       "      <td>0.0</td>\n",
       "    </tr>\n",
       "    <tr>\n",
       "      <th>2</th>\n",
       "      <td>2022</td>\n",
       "      <td>1</td>\n",
       "      <td>5</td>\n",
       "      <td>0.0</td>\n",
       "      <td>52.271355</td>\n",
       "      <td>104.326111</td>\n",
       "      <td>0.0</td>\n",
       "    </tr>\n",
       "    <tr>\n",
       "      <th>3</th>\n",
       "      <td>2022</td>\n",
       "      <td>1</td>\n",
       "      <td>5</td>\n",
       "      <td>0.0</td>\n",
       "      <td>52.271431</td>\n",
       "      <td>104.327698</td>\n",
       "      <td>0.0</td>\n",
       "    </tr>\n",
       "    <tr>\n",
       "      <th>4</th>\n",
       "      <td>2022</td>\n",
       "      <td>1</td>\n",
       "      <td>5</td>\n",
       "      <td>0.0</td>\n",
       "      <td>52.271519</td>\n",
       "      <td>104.328651</td>\n",
       "      <td>0.0</td>\n",
       "    </tr>\n",
       "    <tr>\n",
       "      <th>...</th>\n",
       "      <td>...</td>\n",
       "      <td>...</td>\n",
       "      <td>...</td>\n",
       "      <td>...</td>\n",
       "      <td>...</td>\n",
       "      <td>...</td>\n",
       "      <td>...</td>\n",
       "    </tr>\n",
       "    <tr>\n",
       "      <th>3084490</th>\n",
       "      <td>2022</td>\n",
       "      <td>1</td>\n",
       "      <td>23</td>\n",
       "      <td>359.0</td>\n",
       "      <td>52.272530</td>\n",
       "      <td>104.327370</td>\n",
       "      <td>0.0</td>\n",
       "    </tr>\n",
       "    <tr>\n",
       "      <th>3084491</th>\n",
       "      <td>2022</td>\n",
       "      <td>1</td>\n",
       "      <td>23</td>\n",
       "      <td>359.0</td>\n",
       "      <td>52.276043</td>\n",
       "      <td>104.257591</td>\n",
       "      <td>17.0</td>\n",
       "    </tr>\n",
       "    <tr>\n",
       "      <th>3084492</th>\n",
       "      <td>2022</td>\n",
       "      <td>1</td>\n",
       "      <td>23</td>\n",
       "      <td>359.0</td>\n",
       "      <td>52.281219</td>\n",
       "      <td>104.295845</td>\n",
       "      <td>10.0</td>\n",
       "    </tr>\n",
       "    <tr>\n",
       "      <th>3084493</th>\n",
       "      <td>2022</td>\n",
       "      <td>1</td>\n",
       "      <td>23</td>\n",
       "      <td>359.0</td>\n",
       "      <td>52.281395</td>\n",
       "      <td>104.295982</td>\n",
       "      <td>14.0</td>\n",
       "    </tr>\n",
       "    <tr>\n",
       "      <th>3084494</th>\n",
       "      <td>2022</td>\n",
       "      <td>1</td>\n",
       "      <td>23</td>\n",
       "      <td>359.0</td>\n",
       "      <td>52.286819</td>\n",
       "      <td>104.257660</td>\n",
       "      <td>28.0</td>\n",
       "    </tr>\n",
       "  </tbody>\n",
       "</table>\n",
       "<p>3084495 rows × 7 columns</p>\n",
       "</div>"
      ],
      "text/plain": [
       "         year  month  hour  HEADING        lat         lon  average_speed\n",
       "0        2022      1     5      0.0  52.256699  104.364227           15.0\n",
       "1        2022      1     5      0.0  52.270916  104.325447            0.0\n",
       "2        2022      1     5      0.0  52.271355  104.326111            0.0\n",
       "3        2022      1     5      0.0  52.271431  104.327698            0.0\n",
       "4        2022      1     5      0.0  52.271519  104.328651            0.0\n",
       "...       ...    ...   ...      ...        ...         ...            ...\n",
       "3084490  2022      1    23    359.0  52.272530  104.327370            0.0\n",
       "3084491  2022      1    23    359.0  52.276043  104.257591           17.0\n",
       "3084492  2022      1    23    359.0  52.281219  104.295845           10.0\n",
       "3084493  2022      1    23    359.0  52.281395  104.295982           14.0\n",
       "3084494  2022      1    23    359.0  52.286819  104.257660           28.0\n",
       "\n",
       "[3084495 rows x 7 columns]"
      ]
     },
     "execution_count": 9,
     "metadata": {},
     "output_type": "execute_result"
    }
   ],
   "source": [
    "df"
   ]
  },
  {
   "cell_type": "code",
   "execution_count": 6,
   "id": "151a6043",
   "metadata": {},
   "outputs": [],
   "source": [
    "def authorization_pg():\n",
    "    login_name = ''\n",
    "    login_password = ''\n",
    "    IP = ''\n",
    "    engine_str = f'postgresql://{login_name}:{login_password}@{IP}:5432/postgres'\n",
    "    engine = create_engine(engine_str)\n",
    "    return engine"
   ]
  },
  {
   "cell_type": "code",
   "execution_count": 17,
   "id": "59d12d97",
   "metadata": {},
   "outputs": [],
   "source": [
    " def generate():\n",
    "    d = {\n",
    "        'year':df.year\n",
    "        ,'month':df.month\n",
    "        ,'hour':df.hour\n",
    "        ,'heading':df.HEADING\n",
    "        ,'lat':df.lat\n",
    "        ,'lon':df.lon\n",
    "        ,'average_speed':df.average_speed\n",
    "    }\n",
    "    df_into = pd.DataFrame(data=d)\n",
    "    return df_into"
   ]
  },
  {
   "cell_type": "code",
   "execution_count": 19,
   "id": "adc76ba9",
   "metadata": {},
   "outputs": [],
   "source": [
    " def into_pg_table(pg_table_name):\n",
    "    dataframe = generate()\n",
    "    connector = authorization_pg()\n",
    "    dataframe.to_sql(\n",
    "        name = pg_table_name,\n",
    "        con = connector,\n",
    "        chunksize = 10000,\n",
    "        index = False,\n",
    "        if_exists = 'append'\n",
    "    )"
   ]
  },
  {
   "cell_type": "code",
   "execution_count": 20,
   "id": "8d559540",
   "metadata": {},
   "outputs": [
    {
     "name": "stdout",
     "output_type": "stream",
     "text": [
      "CPU times: user 41.6 s, sys: 336 ms, total: 41.9 s\n",
      "Wall time: 1min 4s\n"
     ]
    }
   ],
   "source": [
    "%%time\n",
    "into_pg_table('dbo_average_speed_tramway')"
   ]
  },
  {
   "cell_type": "code",
   "execution_count": null,
   "id": "b3c1d85a",
   "metadata": {},
   "outputs": [],
   "source": []
  }
 ],
 "metadata": {
  "kernelspec": {
   "display_name": "Python 3 (ipykernel)",
   "language": "python",
   "name": "python3"
  },
  "language_info": {
   "codemirror_mode": {
    "name": "ipython",
    "version": 3
   },
   "file_extension": ".py",
   "mimetype": "text/x-python",
   "name": "python",
   "nbconvert_exporter": "python",
   "pygments_lexer": "ipython3",
   "version": "3.9.7"
  }
 },
 "nbformat": 4,
 "nbformat_minor": 5
}
